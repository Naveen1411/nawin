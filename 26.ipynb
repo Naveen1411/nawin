{
 "cells": [
  {
   "cell_type": "code",
   "execution_count": 2,
   "metadata": {},
   "outputs": [
    {
     "name": "stdout",
     "output_type": "stream",
     "text": [
      "10 20\n",
      "area: 100.0\n"
     ]
    }
   ],
   "source": [
    "class triangle:\n",
    "    def __init__(self):\n",
    "        self.base=0\n",
    "        self.height=0\n",
    "    def area(self):\n",
    "        return self.base*self.height*0.5\n",
    "def main():\n",
    "    tri=triangle()\n",
    "    tri.base=10\n",
    "    tri.height=20\n",
    "    print(tri.base,tri.height)\n",
    "    a=tri.area()\n",
    "    print('area:',a)\n",
    "main()"
   ]
  },
  {
   "cell_type": "code",
   "execution_count": 3,
   "metadata": {},
   "outputs": [
    {
     "name": "stdout",
     "output_type": "stream",
     "text": [
      "20221267736 10000 nav\n"
     ]
    }
   ],
   "source": [
    "class account:\n",
    "    def __ini__(self):\n",
    "        self.acc=0\n",
    "        self.name=None\n",
    "        self.balance=0\n",
    "def main():\n",
    "    a1=account()\n",
    "    a1.acc=20221267736\n",
    "    a1.name='nav'\n",
    "    a1.balance=10000\n",
    "    print(a1.acc,a1.balance,a1.name)\n",
    "main()"
   ]
  },
  {
   "cell_type": "code",
   "execution_count": 4,
   "metadata": {},
   "outputs": [
    {
     "name": "stdout",
     "output_type": "stream",
     "text": [
      "naveen 101 python\n",
      "nav 102 java\n"
     ]
    }
   ],
   "source": [
    "class student:\n",
    "    def __init__(self):\n",
    "        self.name=None\n",
    "        self.rollno=0\n",
    "        self.course=None\n",
    "def main():\n",
    "    s1=student()\n",
    "    s2=student()\n",
    "    s1.name='naveen'\n",
    "    s1.rollno=101\n",
    "    s1.course='python'\n",
    "    s2.name='nav'\n",
    "    s2.rollno=102\n",
    "    s2.course='java'\n",
    "    print(s1.name,s1.rollno,s1.course,)\n",
    "    print(s2.name,s2.rollno,s2.course)\n",
    "    \n",
    "        \n",
    "main()\n"
   ]
  },
  {
   "cell_type": "code",
   "execution_count": 5,
   "metadata": {},
   "outputs": [
    {
     "name": "stdout",
     "output_type": "stream",
     "text": [
      "101\n",
      "naveen\n",
      "python\n"
     ]
    }
   ],
   "source": [
    "class student():\n",
    "    def __init__(self):\n",
    "        self.__rollno=0\n",
    "        self.__name=None\n",
    "        self.__course=None\n",
    "    def setrollno(self,r):\n",
    "        self.__rollno=r\n",
    "    def setname(self,n):\n",
    "        self.__name=n\n",
    "    def setcourse(self,c):\n",
    "        self.__course=c\n",
    "    def getrollno(self):\n",
    "        return self.__rollno\n",
    "    def getname(self):\n",
    "        return self.__name\n",
    "    def getcourse(self):\n",
    "        return self.__course\n",
    "    rollno=property(getrollno,setrollno)\n",
    "    name=property(getname,setname)\n",
    "    course=property(getcourse,setcourse)\n",
    "def main():\n",
    "    s1=student()\n",
    "    s1.rollno=101\n",
    "    s1.name='naveen'\n",
    "    s1.course='python'\n",
    "    print(s1.rollno)\n",
    "    print(s1.name)\n",
    "    print(s1.course)\n",
    "main()\n"
   ]
  },
  {
   "cell_type": "code",
   "execution_count": 6,
   "metadata": {},
   "outputs": [
    {
     "name": "stdout",
     "output_type": "stream",
     "text": [
      "314.0\n"
     ]
    }
   ],
   "source": [
    "class circle:\n",
    "    pi=3.14\n",
    "    def __init__(self):\n",
    "        self.__r=0\n",
    "    def setr(self,r):\n",
    "        self.__r=r\n",
    "    def getr(self):\n",
    "        return self.__r\n",
    "    def find(self):\n",
    "        return circle.pi*self.__r*self.__r\n",
    "    r=property(getr,setr)\n",
    "def main():\n",
    "    c=circle()\n",
    "    c.r=10\n",
    "    a=c.find()\n",
    "    print(a)\n",
    "main()"
   ]
  }
 ],
 "metadata": {
  "kernelspec": {
   "display_name": "Python 3",
   "language": "python",
   "name": "python3"
  },
  "language_info": {
   "codemirror_mode": {
    "name": "ipython",
    "version": 3
   },
   "file_extension": ".py",
   "mimetype": "text/x-python",
   "name": "python",
   "nbconvert_exporter": "python",
   "pygments_lexer": "ipython3",
   "version": "3.7.3"
  }
 },
 "nbformat": 4,
 "nbformat_minor": 2
}
